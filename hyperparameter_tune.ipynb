{
 "cells": [
  {
   "cell_type": "markdown",
   "metadata": {},
   "source": [
    "### 필요 패키지 설치"
   ]
  },
  {
   "cell_type": "code",
   "execution_count": 1,
   "metadata": {},
   "outputs": [
    {
     "name": "stdout",
     "output_type": "stream",
     "text": [
      "Collecting wandb\n",
      "  Downloading wandb-0.18.1-py3-none-manylinux_2_17_x86_64.manylinux2014_x86_64.whl.metadata (9.6 kB)\n",
      "Collecting click!=8.0.0,>=7.1 (from wandb)\n",
      "  Downloading click-8.1.7-py3-none-any.whl.metadata (3.0 kB)\n",
      "Collecting docker-pycreds>=0.4.0 (from wandb)\n",
      "  Downloading docker_pycreds-0.4.0-py2.py3-none-any.whl.metadata (1.8 kB)\n",
      "Collecting gitpython!=3.1.29,>=1.0.0 (from wandb)\n",
      "  Downloading GitPython-3.1.43-py3-none-any.whl.metadata (13 kB)\n",
      "Requirement already satisfied: platformdirs in /data/ephemeral/.venv/lib/python3.10/site-packages (from wandb) (4.3.3)\n",
      "Collecting protobuf!=4.21.0,!=5.28.0,<6,>=3.19.0 (from wandb)\n",
      "  Downloading protobuf-5.28.2-cp38-abi3-manylinux2014_x86_64.whl.metadata (592 bytes)\n",
      "Requirement already satisfied: psutil>=5.0.0 in /data/ephemeral/.venv/lib/python3.10/site-packages (from wandb) (6.0.0)\n",
      "Collecting pyyaml (from wandb)\n",
      "  Downloading PyYAML-6.0.2-cp310-cp310-manylinux_2_17_x86_64.manylinux2014_x86_64.whl.metadata (2.1 kB)\n",
      "Collecting requests<3,>=2.0.0 (from wandb)\n",
      "  Downloading requests-2.32.3-py3-none-any.whl.metadata (4.6 kB)\n",
      "Collecting sentry-sdk>=1.0.0 (from wandb)\n",
      "  Downloading sentry_sdk-2.14.0-py2.py3-none-any.whl.metadata (9.7 kB)\n",
      "Collecting setproctitle (from wandb)\n",
      "  Downloading setproctitle-1.3.3-cp310-cp310-manylinux_2_5_x86_64.manylinux1_x86_64.manylinux_2_17_x86_64.manylinux2014_x86_64.whl.metadata (9.9 kB)\n",
      "Requirement already satisfied: setuptools in /data/ephemeral/.venv/lib/python3.10/site-packages (from wandb) (65.5.0)\n",
      "Requirement already satisfied: six>=1.4.0 in /data/ephemeral/.venv/lib/python3.10/site-packages (from docker-pycreds>=0.4.0->wandb) (1.16.0)\n",
      "Collecting gitdb<5,>=4.0.1 (from gitpython!=3.1.29,>=1.0.0->wandb)\n",
      "  Downloading gitdb-4.0.11-py3-none-any.whl.metadata (1.2 kB)\n",
      "Collecting charset-normalizer<4,>=2 (from requests<3,>=2.0.0->wandb)\n",
      "  Downloading charset_normalizer-3.3.2-cp310-cp310-manylinux_2_17_x86_64.manylinux2014_x86_64.whl.metadata (33 kB)\n",
      "Collecting idna<4,>=2.5 (from requests<3,>=2.0.0->wandb)\n",
      "  Downloading idna-3.10-py3-none-any.whl.metadata (10 kB)\n",
      "Collecting urllib3<3,>=1.21.1 (from requests<3,>=2.0.0->wandb)\n",
      "  Downloading urllib3-2.2.3-py3-none-any.whl.metadata (6.5 kB)\n",
      "Collecting certifi>=2017.4.17 (from requests<3,>=2.0.0->wandb)\n",
      "  Downloading certifi-2024.8.30-py3-none-any.whl.metadata (2.2 kB)\n",
      "Collecting smmap<6,>=3.0.1 (from gitdb<5,>=4.0.1->gitpython!=3.1.29,>=1.0.0->wandb)\n",
      "  Downloading smmap-5.0.1-py3-none-any.whl.metadata (4.3 kB)\n",
      "Downloading wandb-0.18.1-py3-none-manylinux_2_17_x86_64.manylinux2014_x86_64.whl (9.7 MB)\n",
      "\u001b[2K   \u001b[90m━━━━━━━━━━━━━━━━━━━━━━━━━━━━━━━━━━━━━━━━\u001b[0m \u001b[32m9.7/9.7 MB\u001b[0m \u001b[31m8.9 MB/s\u001b[0m eta \u001b[36m0:00:00\u001b[0ma \u001b[36m0:00:01\u001b[0m\n",
      "\u001b[?25hDownloading click-8.1.7-py3-none-any.whl (97 kB)\n",
      "Downloading docker_pycreds-0.4.0-py2.py3-none-any.whl (9.0 kB)\n",
      "Downloading GitPython-3.1.43-py3-none-any.whl (207 kB)\n",
      "Downloading protobuf-5.28.2-cp38-abi3-manylinux2014_x86_64.whl (316 kB)\n",
      "Downloading requests-2.32.3-py3-none-any.whl (64 kB)\n",
      "Downloading sentry_sdk-2.14.0-py2.py3-none-any.whl (311 kB)\n",
      "Downloading PyYAML-6.0.2-cp310-cp310-manylinux_2_17_x86_64.manylinux2014_x86_64.whl (751 kB)\n",
      "\u001b[2K   \u001b[90m━━━━━━━━━━━━━━━━━━━━━━━━━━━━━━━━━━━━━━━━\u001b[0m \u001b[32m751.2/751.2 kB\u001b[0m \u001b[31m19.9 MB/s\u001b[0m eta \u001b[36m0:00:00\u001b[0m\n",
      "\u001b[?25hDownloading setproctitle-1.3.3-cp310-cp310-manylinux_2_5_x86_64.manylinux1_x86_64.manylinux_2_17_x86_64.manylinux2014_x86_64.whl (30 kB)\n",
      "Downloading certifi-2024.8.30-py3-none-any.whl (167 kB)\n",
      "Downloading charset_normalizer-3.3.2-cp310-cp310-manylinux_2_17_x86_64.manylinux2014_x86_64.whl (142 kB)\n",
      "Downloading gitdb-4.0.11-py3-none-any.whl (62 kB)\n",
      "Downloading idna-3.10-py3-none-any.whl (70 kB)\n",
      "Downloading urllib3-2.2.3-py3-none-any.whl (126 kB)\n",
      "Downloading smmap-5.0.1-py3-none-any.whl (24 kB)\n",
      "Installing collected packages: urllib3, smmap, setproctitle, pyyaml, protobuf, idna, docker-pycreds, click, charset-normalizer, certifi, sentry-sdk, requests, gitdb, gitpython, wandb\n",
      "Successfully installed certifi-2024.8.30 charset-normalizer-3.3.2 click-8.1.7 docker-pycreds-0.4.0 gitdb-4.0.11 gitpython-3.1.43 idna-3.10 protobuf-5.28.2 pyyaml-6.0.2 requests-2.32.3 sentry-sdk-2.14.0 setproctitle-1.3.3 smmap-5.0.1 urllib3-2.2.3 wandb-0.18.1\n"
     ]
    }
   ],
   "source": [
    "!pip install wandb"
   ]
  },
  {
   "cell_type": "markdown",
   "metadata": {},
   "source": [
    "### wandb 로그인\n"
   ]
  },
  {
   "cell_type": "markdown",
   "metadata": {},
   "source": [
    "wandb에 로그인하여 api키를 입력합니다."
   ]
  },
  {
   "cell_type": "code",
   "execution_count": 2,
   "metadata": {},
   "outputs": [
    {
     "name": "stderr",
     "output_type": "stream",
     "text": [
      "\u001b[34m\u001b[1mwandb\u001b[0m: Using wandb-core as the SDK backend. Please refer to https://wandb.me/wandb-core for more information.\n",
      "\u001b[34m\u001b[1mwandb\u001b[0m: Logging into wandb.ai. (Learn how to deploy a W&B server locally: https://wandb.me/wandb-server)\n",
      "\u001b[34m\u001b[1mwandb\u001b[0m: You can find your API key in your browser here: https://wandb.ai/authorize\n",
      "\u001b[34m\u001b[1mwandb\u001b[0m: Paste an API key from your profile and hit enter, or press ctrl+c to quit:\u001b[34m\u001b[1mwandb\u001b[0m: Appending key for api.wandb.ai to your netrc file: /data/ephemeral/home/.netrc\n"
     ]
    },
    {
     "data": {
      "text/plain": [
       "True"
      ]
     },
     "execution_count": 2,
     "metadata": {},
     "output_type": "execute_result"
    }
   ],
   "source": [
    "import wandb\n",
    "\n",
    "# WanDB 로그인\n",
    "wandb.login()"
   ]
  },
  {
   "cell_type": "markdown",
   "metadata": {},
   "source": [
    "### hyperparameter_tune"
   ]
  },
  {
   "cell_type": "markdown",
   "metadata": {},
   "source": [
    "튜닝할 파라미터의 이름, 자료형, 범위 등 세팅합니다."
   ]
  },
  {
   "cell_type": "code",
   "execution_count": null,
   "metadata": {},
   "outputs": [],
   "source": [
    "# 파라미터 세팅 구현\n",
    "\n",
    "sweep_config = {\n",
    "    'method': 'random',\n",
    "    'metric': {\n",
    "        'name': 'accuracy',\n",
    "        'goal': 'maximize'\n",
    "    },\n",
    "    'parameters': {\n",
    "        'lg_max_iter' : {\n",
    "            'values' : [300,500,700]\n",
    "        },\n",
    "        'lg_class_weight' : {\n",
    "            'values' : [None,'balanced']\n",
    "        },\n",
    "        'rf_n_estimators': {\n",
    "            'values': [50, 100, 200]\n",
    "        },\n",
    "        'rf_max_depth': {\n",
    "            'values': [10, 20, 30]\n",
    "        },\n",
    "        'rf_min_samples_split': {\n",
    "            'values': [2, 5, 10]\n",
    "        },\n",
    "        'dc_min_samples_split': {\n",
    "            'values': [2, 4, 8]\n",
    "        },\n",
    "        'dc_max_depth': {\n",
    "            'values': [10, 20, 40]\n",
    "        },\n",
    "        'knn_n_neighbors': {\n",
    "            'values': [4, 6, 8]\n",
    "        },\n",
    "        'knn_leaf_size': {\n",
    "            'values': [20, 30, 40]\n",
    "        }\n",
    "    }\n",
    "}\n",
    "\n",
    "sweep_id = wandb.sweep(\n",
    "    sweep_config,\n",
    "    project=\"hyperparameter_tune\"\n",
    ")\n",
    "sweep_id"
   ]
  },
  {
   "cell_type": "markdown",
   "metadata": {},
   "source": [
    "#### sweep 학습"
   ]
  },
  {
   "cell_type": "code",
   "execution_count": null,
   "metadata": {},
   "outputs": [],
   "source": [
    "####임시로 학습 데이터 불러오는 블럭\n"
   ]
  },
  {
   "cell_type": "code",
   "execution_count": null,
   "metadata": {},
   "outputs": [],
   "source": [
    "from sklearn.ensemble import VotingClassifier, RandomForestClassifier\n",
    "from sklearn.linear_model import LogisticRegression\n",
    "from sklearn.neighbors import KNeighborsClassifier\n",
    "from sklearn.tree import DecisionTreeClassifier\n",
    "\n",
    "from sklearn.model_selection import train_test_split\n",
    "from sklearn.model_selection import StratifiedKFold\n",
    "from sklearn.metrics import accuracy_score, f1_score\n",
    "from sklearn.ensemble import RandomForestClassifier, GradientBoostingClassifier\n",
    "from sklearn.neighbors import KNeighborsClassifier\n",
    "\n",
    "import numpy as np\n",
    "\n",
    "\n",
    "def soft_voting(predictions):\n",
    "    voting_result = np.argmax(np.sum(predictions, axis=0), axis=1)\n",
    "    return voting_result\n",
    "\n",
    "\n",
    "def wandb_training_function():\n",
    "    with wandb.init() as run:\n",
    "        params = wandb.config\n",
    "\n",
    "        val_scores = list()\n",
    "\n",
    "        lg = LogisticRegression(max_iter=params['lg_max_iter'],\n",
    "                                class_weight=params['lg_class_weight'])\n",
    "\n",
    "        # 모델 정의\n",
    "        rf = RandomForestClassifier(n_estimators=params['rf_n_estimators'],\n",
    "                                max_depth=params['rf_max_depth'],\n",
    "                                min_samples_split=params['rf_min_samples_split'])\n",
    "\n",
    "        dc = DecisionTreeClassifier(min_samples_split=params['dc_min_samples_split'],\n",
    "                                    max_depth=params['dc_max_depth'])\n",
    "\n",
    "        knn = KNeighborsClassifier(n_neighbors=params['knn_n_neighbors'],\n",
    "                                    leaf_size=params['knn_leaf_size'])\n",
    "\n",
    "        # 모델 리스트 구성\n",
    "        models = [lg ,rf, dc, knn]\n",
    "\n",
    "        # 모델 학습\n",
    "        for model in models:\n",
    "            model.fit(x_train, y_train)\n",
    "\n",
    "        # 모델 예측\n",
    "        preds_train = [model.predict_proba(x_train) for model in models]\n",
    "        preds_valid = [model.predict_proba(x_valid) for model in models]\n",
    "        voting_preds_train = soft_voting(preds_train)\n",
    "        voting_preds_valid = soft_voting(preds_valid)\n",
    "\n",
    "        # 모델 평가\n",
    "        train_accuracy = accuracy_score(y_train, voting_preds_train)\n",
    "        valid_accuracy = accuracy_score(y_valid, voting_preds_valid)\n",
    "\n",
    "        val_scores.append(valid_accuracy)\n",
    "\n",
    "        wandb.log({\"train_accuracy\": train_accuracy, \"valid_accuracy\": valid_accuracy})\n",
    "\n",
    "        metrics = {\"cv_metric\": np.mean(val_scores)}\n",
    "        wandb.log(metrics)"
   ]
  },
  {
   "cell_type": "code",
   "execution_count": null,
   "metadata": {},
   "outputs": [],
   "source": [
    "count = 20\n",
    "\n",
    "wandb.agent(sweep_id, function=wandb_training_function, count=count)"
   ]
  },
  {
   "cell_type": "markdown",
   "metadata": {},
   "source": [
    "### 하이퍼 파라미터 분석"
   ]
  },
  {
   "cell_type": "markdown",
   "metadata": {},
   "source": [
    "ensemble에 사용할 모델인 KNeighborsClassifier, DecisionTreeClassifier, RandomForestClassifier, LogisticRegression에 대한 hyperparameter 최적화를 진행하였음.\n",
    "아래는 각 모델별 학습 그래프이다."
   ]
  },
  {
   "cell_type": "markdown",
   "metadata": {},
   "source": [
    "<center>\n",
    "<img src='hyperparameter_img/dc.png'/><br>\n",
    "<img src='hyperparameter_img/knn.png'/><br>\n",
    "<img src='hyperparameter_img/lg.png'/><br>\n",
    "<img src='hyperparameter_img/rf.png'/><br>\n",
    "<img src='hyperparameter_img/all.png'/><br>\n",
    "\n",
    "</center>"
   ]
  },
  {
   "cell_type": "markdown",
   "metadata": {},
   "source": [
    "아래는 0.4224의 정확도를 가진 파라미터 값이다.\n",
    "\n",
    "KNeighborsClassifier(leat_size = 20, n_neighbors = 4)\n",
    "DecisionTreeClassifier(max_depth = 20, min_samples_split=2)\n",
    "RandomForestClassifier(max_depth = 10,min_samples_split = 10, n_estimators = 50)\n",
    "LogisticRegression(class_weight=None, max_iter=300)"
   ]
  },
  {
   "cell_type": "markdown",
   "metadata": {},
   "source": [
    "위 파라미터로 soft-vote-ensamble을 진행하였으나 이전보다 더 낮은 acc를 도출하였다.\n"
   ]
  }
 ],
 "metadata": {
  "kernelspec": {
   "display_name": ".venv",
   "language": "python",
   "name": "python3"
  },
  "language_info": {
   "codemirror_mode": {
    "name": "ipython",
    "version": 3
   },
   "file_extension": ".py",
   "mimetype": "text/x-python",
   "name": "python",
   "nbconvert_exporter": "python",
   "pygments_lexer": "ipython3",
   "version": "3.10.13"
  }
 },
 "nbformat": 4,
 "nbformat_minor": 2
}
