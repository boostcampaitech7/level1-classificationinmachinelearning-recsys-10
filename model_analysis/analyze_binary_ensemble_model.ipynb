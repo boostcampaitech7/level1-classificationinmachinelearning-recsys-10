{
 "cells": [
  {
   "cell_type": "code",
   "execution_count": 1,
   "id": "c64ceb7b",
   "metadata": {},
   "outputs": [],
   "source": [
    "import os\n",
    "import sys\n",
    "import numpy as np\n",
    "import pandas as pd\n",
    "from sklearn.model_selection import train_test_split\n",
    "from sklearn.metrics import accuracy_score, f1_score, classification_report, confusion_matrix"
   ]
  },
  {
   "cell_type": "markdown",
   "id": "7eabf480",
   "metadata": {},
   "source": [
    "## Loading Preprocessed Data"
   ]
  },
  {
   "cell_type": "code",
   "execution_count": 2,
   "id": "b5e8b52c",
   "metadata": {},
   "outputs": [],
   "source": [
    "# 파일 호출\n",
    "\n",
    "data_path: str =  os.path.join(os.path.dirname(os.path.abspath('')), 'data', 'preprocessed')\n",
    "train_df: pd.DataFrame = pd.read_csv(os.path.join(data_path, \"train_df.csv\"), index_col=0)\n",
    "test_df: pd.DataFrame = pd.read_csv(os.path.join(data_path, \"test_df.csv\"), index_col=0)\n",
    "all_df: pd.DataFrame = pd.concat([train_df, test_df], axis=0)"
   ]
  },
  {
   "cell_type": "code",
   "execution_count": 3,
   "id": "6ba02854",
   "metadata": {},
   "outputs": [],
   "source": [
    "train_X = train_df.drop(columns=['target', 'close_price'])\n",
    "train_y = train_df['target']\n",
    "test_X = test_df.drop(columns=['target', 'close_price'])"
   ]
  },
  {
   "cell_type": "code",
   "execution_count": 4,
   "id": "e2021272",
   "metadata": {},
   "outputs": [],
   "source": [
    "project_path: str = os.path.dirname(os.path.abspath(''))\n",
    "model_path: str = os.path.join(project_path, 'models')\n",
    "if project_path not in sys.path:\n",
    "    sys.path.append(project_path)\n",
    "if model_path not in sys.path:\n",
    "    sys.path.append(model_path)\n",
    "from models.model import Model\n",
    "from models.binary_ensemble_model import BinaryEnsembleModel"
   ]
  },
  {
   "cell_type": "markdown",
   "id": "45393d3a",
   "metadata": {},
   "source": [
    "## Split into Train/Validation data"
   ]
  },
  {
   "cell_type": "code",
   "execution_count": 5,
   "id": "213f7fc1",
   "metadata": {},
   "outputs": [
    {
     "name": "stdout",
     "output_type": "stream",
     "text": [
      "[LightGBM] [Info] Number of positive: 592, number of negative: 6416\n",
      "[LightGBM] [Info] Auto-choosing col-wise multi-threading, the overhead of testing was 0.026564 seconds.\n",
      "You can set `force_col_wise=true` to remove the overhead.\n",
      "[LightGBM] [Info] Total Bins 296107\n",
      "[LightGBM] [Info] Number of data points in the train set: 7008, number of used features: 1207\n",
      "[LightGBM] [Info] [binary:BoostFromScore]: pavg=0.084475 -> initscore=-2.383044\n",
      "[LightGBM] [Info] Start training from score -2.383044\n",
      "[LightGBM] [Info] Number of positive: 2835, number of negative: 4173\n",
      "[LightGBM] [Info] Auto-choosing col-wise multi-threading, the overhead of testing was 0.027494 seconds.\n",
      "You can set `force_col_wise=true` to remove the overhead.\n",
      "[LightGBM] [Info] Total Bins 296107\n",
      "[LightGBM] [Info] Number of data points in the train set: 7008, number of used features: 1207\n",
      "[LightGBM] [Info] [binary:BoostFromScore]: pavg=0.404538 -> initscore=-0.386593\n",
      "[LightGBM] [Info] Start training from score -0.386593\n",
      "[LightGBM] [Info] Number of positive: 2937, number of negative: 4071\n",
      "[LightGBM] [Info] Auto-choosing col-wise multi-threading, the overhead of testing was 0.027397 seconds.\n",
      "You can set `force_col_wise=true` to remove the overhead.\n",
      "[LightGBM] [Info] Total Bins 296107\n",
      "[LightGBM] [Info] Number of data points in the train set: 7008, number of used features: 1207\n",
      "[LightGBM] [Info] [binary:BoostFromScore]: pavg=0.419092 -> initscore=-0.326500\n",
      "[LightGBM] [Info] Start training from score -0.326500\n",
      "[LightGBM] [Info] Number of positive: 644, number of negative: 6364\n",
      "[LightGBM] [Info] Auto-choosing col-wise multi-threading, the overhead of testing was 0.025886 seconds.\n",
      "You can set `force_col_wise=true` to remove the overhead.\n",
      "[LightGBM] [Info] Total Bins 296107\n",
      "[LightGBM] [Info] Number of data points in the train set: 7008, number of used features: 1207\n",
      "[LightGBM] [Info] [binary:BoostFromScore]: pavg=0.091895 -> initscore=-2.290714\n",
      "[LightGBM] [Info] Start training from score -2.290714\n"
     ]
    }
   ],
   "source": [
    "X_train, X_valid, y_train, y_valid = train_test_split(train_X, train_y, test_size=0.2, random_state=42, stratify=train_y)\n",
    "model_params = {\n",
    "    'boosting_type': 'gbdt',\n",
    "    'objective': 'binary',  # 이진 분류로 설정\n",
    "    'metric': 'binary_logloss',  # 이진 클래스 로그 손실\n",
    "    'learning_rate': 0.005,\n",
    "    'num_leaves': 31,\n",
    "    'max_depth': -1,\n",
    "    'min_data_in_leaf': 50,\n",
    "    'lambda_l1': 0.1,\n",
    "    'lambda_l2': 0.1,\n",
    "    'random_state': 42,\n",
    "}\n",
    "\n",
    "ensemble_model = BinaryEnsembleModel(model_params = model_params, selected_features = 'all')\n",
    "\n",
    "# Model을 training data에 대해 학습합니다.\n",
    "ensemble_model.fit(X_train, y_train,None)\n",
    "\n",
    "# Validation set에 대한 예측\n",
    "y_valid_pred = ensemble_model.predict(X_valid)"
   ]
  },
  {
   "cell_type": "code",
   "execution_count": 6,
   "id": "4b3c692d",
   "metadata": {},
   "outputs": [
    {
     "name": "stdout",
     "output_type": "stream",
     "text": [
      "Validation Accuracy: 0.4795\n",
      "Classification Report:\n",
      "              precision    recall  f1-score   support\n",
      "\n",
      "         0.0       0.78      0.09      0.17       148\n",
      "         1.0       0.48      0.51      0.49       709\n",
      "         2.0       0.48      0.61      0.53       734\n",
      "         3.0       0.50      0.09      0.15       161\n",
      "\n",
      "    accuracy                           0.48      1752\n",
      "   macro avg       0.56      0.33      0.34      1752\n",
      "weighted avg       0.50      0.48      0.45      1752\n",
      "\n",
      "Confusion Matrix:\n",
      "[[ 14  60  72   2]\n",
      " [  2 365 338   4]\n",
      " [  1 278 447   8]\n",
      " [  1  64  82  14]]\n"
     ]
    }
   ],
   "source": [
    "# Calculate accuracy\n",
    "accuracy = accuracy_score(y_valid, y_valid_pred)\n",
    "print(f\"Validation Accuracy: {accuracy:.4f}\")\n",
    "\n",
    "# Classification report for precision, recall, F1-score\n",
    "print(\"Classification Report:\")\n",
    "print(classification_report(y_valid, y_valid_pred))\n",
    "\n",
    "# Confusion matrix\n",
    "print(\"Confusion Matrix:\")\n",
    "print(confusion_matrix(y_valid, y_valid_pred))"
   ]
  },
  {
   "cell_type": "markdown",
   "id": "0cb53cae",
   "metadata": {},
   "source": [
    "## 결과 분석\n",
    "\n",
    "위의 결과에 따른 confusion matrix, precision, recall 을 참조하면 binary ensemble 모델은 여전히 class 불균형을 해결하지 못했음을 알 수 있습니다. 하지만, precision 자체는 0 과 3에서 꽤 준수한 성능을 보입니다. 1과 2 중에서는 2, 즉 실제 상승세일 때 모델이 상승세로 예측하는 비율이 상승했습니다. 하지만, 값이 내려갈 때 모델이 잘 예측하지 못함을 알 수 있습니다. validation accuracy 는 0.4795로 다른 모델에 비해 준수한 성능을 보이지만 내재된 문제들은 여전히 지속됨을 알 수 있습니다 "
   ]
  },
  {
   "cell_type": "code",
   "execution_count": null,
   "id": "41eab758",
   "metadata": {},
   "outputs": [],
   "source": []
  }
 ],
 "metadata": {
  "kernelspec": {
   "display_name": "Python 3 (ipykernel)",
   "language": "python",
   "name": "python3"
  },
  "language_info": {
   "codemirror_mode": {
    "name": "ipython",
    "version": 3
   },
   "file_extension": ".py",
   "mimetype": "text/x-python",
   "name": "python",
   "nbconvert_exporter": "python",
   "pygments_lexer": "ipython3",
   "version": "3.9.13"
  }
 },
 "nbformat": 4,
 "nbformat_minor": 5
}
