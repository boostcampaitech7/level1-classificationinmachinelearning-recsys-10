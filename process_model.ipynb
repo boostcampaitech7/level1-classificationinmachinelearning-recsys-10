{
  "cells": [
    {
      "cell_type": "markdown",
      "metadata": {
        "id": "NATX0bAZNln8"
      },
      "source": [
        "### Import Library"
      ]
    },
    {
      "cell_type": "code",
      "execution_count": 37,
      "metadata": {
        "id": "Z3Or4rTINln9"
      },
      "outputs": [],
      "source": [
        "import os\n",
        "import sys\n",
        "import numpy as np\n",
        "import pandas as pd\n",
        "from sklearn.model_selection import train_test_split, TimeSeriesSplit\n",
        "from sklearn.metrics import accuracy_score, roc_auc_score\n"
      ]
    },
    {
      "cell_type": "markdown",
      "metadata": {
        "id": "ZMsth-PvNln-"
      },
      "source": [
        "### Load Preprocessed Data"
      ]
    },
    {
      "cell_type": "code",
      "execution_count": 38,
      "metadata": {
        "id": "9XS4DPONNln_"
      },
      "outputs": [],
      "source": [
        "# 파일 호출\n",
        "data_path: str =  os.path.join(os.path.abspath(''), 'data', 'preprocessed')\n",
        "train_df: pd.DataFrame = pd.read_csv(os.path.join(data_path, \"train_df.csv\"), index_col=0)\n",
        "test_df: pd.DataFrame = pd.read_csv(os.path.join(data_path, \"test_df.csv\"), index_col=0)\n",
        "all_df: pd.DataFrame = pd.concat([train_df, test_df], axis=0)"
      ]
    },
    {
      "cell_type": "markdown",
      "metadata": {},
      "source": [
        "### Load Model"
      ]
    },
    {
      "cell_type": "code",
      "execution_count": 35,
      "metadata": {},
      "outputs": [],
      "source": [
        "import importlib\n",
        "\n",
        "# 여기에 사용할 모델이 들어있는 모듈 이름을 적어주세요!\n",
        "# ex) module_name = 'classification_model'\n",
        "module_name = 'direction_model'\n",
        "model_name = ''.join([word.title() for word in module_name.split('_')])\n",
        "\n",
        "model_path: str = os.path.join(os.path.abspath(''), 'models')\n",
        "if model_path not in sys.path:\n",
        "    sys.path.append(model_path)\n",
        "from models.model import Model\n",
        "if module_name in sys.modules:\n",
        "        del sys.modules[module_name]\n",
        "module = importlib.import_module(module_name)\n",
        "selected_model_cls = getattr(module, model_name)"
      ]
    },
    {
      "cell_type": "markdown",
      "metadata": {
        "id": "S1kDMn3FPRco"
      },
      "source": [
        "### Train-Validation process"
      ]
    },
    {
      "cell_type": "code",
      "execution_count": 36,
      "metadata": {
        "id": "0bem1yblNloF"
      },
      "outputs": [
        {
          "ename": "ValueError",
          "evalue": "The truth value of a Series is ambiguous. Use a.empty, a.bool(), a.item(), a.any() or a.all().",
          "output_type": "error",
          "traceback": [
            "\u001b[1;31m---------------------------------------------------------------------------\u001b[0m",
            "\u001b[1;31mValueError\u001b[0m                                Traceback (most recent call last)",
            "Cell \u001b[1;32mIn[36], line 20\u001b[0m\n\u001b[0;32m     17\u001b[0m cur_val_y \u001b[38;5;241m=\u001b[39m train_y\u001b[38;5;241m.\u001b[39miloc[val_index]\u001b[38;5;241m.\u001b[39mcopy()\n\u001b[0;32m     19\u001b[0m model: Model \u001b[38;5;241m=\u001b[39m selected_model_cls()\n\u001b[1;32m---> 20\u001b[0m \u001b[43mmodel\u001b[49m\u001b[38;5;241;43m.\u001b[39;49m\u001b[43mfit\u001b[49m\u001b[43m(\u001b[49m\u001b[43mcur_train_X\u001b[49m\u001b[43m,\u001b[49m\u001b[43m \u001b[49m\u001b[43mcur_train_y\u001b[49m\u001b[43m,\u001b[49m\u001b[43m \u001b[49m\u001b[43mcur_train_y_price\u001b[49m\u001b[43m)\u001b[49m\n\u001b[0;32m     21\u001b[0m cur_val_y_pred \u001b[38;5;241m=\u001b[39m model\u001b[38;5;241m.\u001b[39mpredict(cur_val_X)\n\u001b[0;32m     23\u001b[0m cur_val_y_direction_pred \u001b[38;5;241m=\u001b[39m cur_val_y_pred\u001b[38;5;241m.\u001b[39mapply(\u001b[38;5;28;01mlambda\u001b[39;00m x: \u001b[38;5;241m0\u001b[39m \u001b[38;5;28;01mif\u001b[39;00m x \u001b[38;5;241m==\u001b[39m \u001b[38;5;241m0\u001b[39m \u001b[38;5;129;01mor\u001b[39;00m x \u001b[38;5;241m==\u001b[39m \u001b[38;5;241m1\u001b[39m \u001b[38;5;28;01melse\u001b[39;00m \u001b[38;5;241m1\u001b[39m)\n",
            "File \u001b[1;32mc:\\Users\\junha\\OneDrive\\Desktop\\level1-classificationinmachinelearning-recsys-10\\models\\binary_ensemble_model.py:53\u001b[0m, in \u001b[0;36mBinaryEnsembleModel.fit\u001b[1;34m(self, X, y, category_cols)\u001b[0m\n\u001b[0;32m     48\u001b[0m train_data \u001b[38;5;241m=\u001b[39m lgb\u001b[38;5;241m.\u001b[39mDataset(\n\u001b[0;32m     49\u001b[0m     selected_X, label\u001b[38;5;241m=\u001b[39my_train_binary, categorical_feature\u001b[38;5;241m=\u001b[39mcategory_cols\n\u001b[0;32m     50\u001b[0m )\n\u001b[0;32m     52\u001b[0m \u001b[38;5;66;03m# 모델 학습\u001b[39;00m\n\u001b[1;32m---> 53\u001b[0m model \u001b[38;5;241m=\u001b[39m \u001b[43mlgb\u001b[49m\u001b[38;5;241;43m.\u001b[39;49m\u001b[43mtrain\u001b[49m\u001b[43m(\u001b[49m\n\u001b[0;32m     54\u001b[0m \u001b[43m    \u001b[49m\u001b[38;5;28;43mself\u001b[39;49m\u001b[38;5;241;43m.\u001b[39;49m\u001b[43mmodel_params\u001b[49m\u001b[43m,\u001b[49m\n\u001b[0;32m     55\u001b[0m \u001b[43m    \u001b[49m\u001b[43mtrain_set\u001b[49m\u001b[38;5;241;43m=\u001b[39;49m\u001b[43mtrain_data\u001b[49m\u001b[43m,\u001b[49m\n\u001b[0;32m     56\u001b[0m \u001b[43m    \u001b[49m\u001b[43mnum_boost_round\u001b[49m\u001b[38;5;241;43m=\u001b[39;49m\u001b[38;5;241;43m600\u001b[39;49m\u001b[43m,\u001b[49m\n\u001b[0;32m     57\u001b[0m \u001b[43m    \u001b[49m\u001b[43mcallbacks\u001b[49m\u001b[38;5;241;43m=\u001b[39;49m\u001b[43m[\u001b[49m\n\u001b[0;32m     58\u001b[0m \u001b[43m        \u001b[49m\u001b[43mlgb\u001b[49m\u001b[38;5;241;43m.\u001b[39;49m\u001b[43mearly_stopping\u001b[49m\u001b[43m(\u001b[49m\u001b[43mstopping_rounds\u001b[49m\u001b[38;5;241;43m=\u001b[39;49m\u001b[38;5;241;43m50\u001b[39;49m\u001b[43m)\u001b[49m\u001b[43m,\u001b[49m\n\u001b[0;32m     59\u001b[0m \u001b[43m        \u001b[49m\u001b[43mlgb\u001b[49m\u001b[38;5;241;43m.\u001b[39;49m\u001b[43mlog_evaluation\u001b[49m\u001b[43m(\u001b[49m\u001b[38;5;241;43m100\u001b[39;49m\u001b[43m)\u001b[49m\u001b[43m,\u001b[49m\n\u001b[0;32m     60\u001b[0m \u001b[43m    \u001b[49m\u001b[43m]\u001b[49m\u001b[43m,\u001b[49m\n\u001b[0;32m     61\u001b[0m \u001b[43m\u001b[49m\u001b[43m)\u001b[49m\n\u001b[0;32m     63\u001b[0m \u001b[38;5;66;03m# 학습된 모델을 클래스별로 저장\u001b[39;00m\n\u001b[0;32m     64\u001b[0m \u001b[38;5;28mself\u001b[39m\u001b[38;5;241m.\u001b[39mbinary_models[target_class] \u001b[38;5;241m=\u001b[39m model\n",
            "File \u001b[1;32mc:\\Users\\junha\\AppData\\Local\\Programs\\Python\\Python310\\lib\\site-packages\\lightgbm\\engine.py:227\u001b[0m, in \u001b[0;36mtrain\u001b[1;34m(params, train_set, num_boost_round, valid_sets, valid_names, feval, init_model, feature_name, categorical_feature, keep_training_booster, callbacks)\u001b[0m\n\u001b[0;32m    224\u001b[0m \u001b[38;5;28;01melse\u001b[39;00m:\n\u001b[0;32m    225\u001b[0m     init_iteration \u001b[38;5;241m=\u001b[39m \u001b[38;5;241m0\u001b[39m\n\u001b[1;32m--> 227\u001b[0m \u001b[43mtrain_set\u001b[49m\u001b[38;5;241;43m.\u001b[39;49m\u001b[43m_update_params\u001b[49m\u001b[43m(\u001b[49m\u001b[43mparams\u001b[49m\u001b[43m)\u001b[49m\u001b[38;5;241;43m.\u001b[39;49m\u001b[43m_set_predictor\u001b[49m\u001b[43m(\u001b[49m\u001b[43mpredictor\u001b[49m\u001b[43m)\u001b[49m\u001b[38;5;241;43m.\u001b[39;49m\u001b[43mset_feature_name\u001b[49m\u001b[43m(\u001b[49m\u001b[43mfeature_name\u001b[49m\u001b[43m)\u001b[49m\u001b[38;5;241;43m.\u001b[39;49m\u001b[43mset_categorical_feature\u001b[49m\u001b[43m(\u001b[49m\n\u001b[0;32m    228\u001b[0m \u001b[43m    \u001b[49m\u001b[43mcategorical_feature\u001b[49m\n\u001b[0;32m    229\u001b[0m \u001b[43m\u001b[49m\u001b[43m)\u001b[49m\n\u001b[0;32m    231\u001b[0m is_valid_contain_train \u001b[38;5;241m=\u001b[39m \u001b[38;5;28;01mFalse\u001b[39;00m\n\u001b[0;32m    232\u001b[0m train_data_name \u001b[38;5;241m=\u001b[39m \u001b[38;5;124m\"\u001b[39m\u001b[38;5;124mtraining\u001b[39m\u001b[38;5;124m\"\u001b[39m\n",
            "File \u001b[1;32mc:\\Users\\junha\\AppData\\Local\\Programs\\Python\\Python310\\lib\\site-packages\\lightgbm\\basic.py:2922\u001b[0m, in \u001b[0;36mDataset.set_categorical_feature\u001b[1;34m(self, categorical_feature)\u001b[0m\n\u001b[0;32m   2906\u001b[0m \u001b[38;5;28;01mdef\u001b[39;00m \u001b[38;5;21mset_categorical_feature\u001b[39m(\n\u001b[0;32m   2907\u001b[0m     \u001b[38;5;28mself\u001b[39m,\n\u001b[0;32m   2908\u001b[0m     categorical_feature: _LGBM_CategoricalFeatureConfiguration,\n\u001b[0;32m   2909\u001b[0m ) \u001b[38;5;241m-\u001b[39m\u001b[38;5;241m>\u001b[39m \u001b[38;5;124m\"\u001b[39m\u001b[38;5;124mDataset\u001b[39m\u001b[38;5;124m\"\u001b[39m:\n\u001b[0;32m   2910\u001b[0m \u001b[38;5;250m    \u001b[39m\u001b[38;5;124;03m\"\"\"Set categorical features.\u001b[39;00m\n\u001b[0;32m   2911\u001b[0m \n\u001b[0;32m   2912\u001b[0m \u001b[38;5;124;03m    Parameters\u001b[39;00m\n\u001b[1;32m   (...)\u001b[0m\n\u001b[0;32m   2920\u001b[0m \u001b[38;5;124;03m        Dataset with set categorical features.\u001b[39;00m\n\u001b[0;32m   2921\u001b[0m \u001b[38;5;124;03m    \"\"\"\u001b[39;00m\n\u001b[1;32m-> 2922\u001b[0m     \u001b[38;5;28;01mif\u001b[39;00m \u001b[38;5;28;43mself\u001b[39;49m\u001b[38;5;241;43m.\u001b[39;49m\u001b[43mcategorical_feature\u001b[49m\u001b[43m \u001b[49m\u001b[38;5;241;43m==\u001b[39;49m\u001b[43m \u001b[49m\u001b[43mcategorical_feature\u001b[49m:\n\u001b[0;32m   2923\u001b[0m         \u001b[38;5;28;01mreturn\u001b[39;00m \u001b[38;5;28mself\u001b[39m\n\u001b[0;32m   2924\u001b[0m     \u001b[38;5;28;01mif\u001b[39;00m \u001b[38;5;28mself\u001b[39m\u001b[38;5;241m.\u001b[39mdata \u001b[38;5;129;01mis\u001b[39;00m \u001b[38;5;129;01mnot\u001b[39;00m \u001b[38;5;28;01mNone\u001b[39;00m:\n",
            "File \u001b[1;32mc:\\Users\\junha\\AppData\\Local\\Programs\\Python\\Python310\\lib\\site-packages\\pandas\\core\\generic.py:1577\u001b[0m, in \u001b[0;36mNDFrame.__nonzero__\u001b[1;34m(self)\u001b[0m\n\u001b[0;32m   1575\u001b[0m \u001b[38;5;129m@final\u001b[39m\n\u001b[0;32m   1576\u001b[0m \u001b[38;5;28;01mdef\u001b[39;00m \u001b[38;5;21m__nonzero__\u001b[39m(\u001b[38;5;28mself\u001b[39m) \u001b[38;5;241m-\u001b[39m\u001b[38;5;241m>\u001b[39m NoReturn:\n\u001b[1;32m-> 1577\u001b[0m     \u001b[38;5;28;01mraise\u001b[39;00m \u001b[38;5;167;01mValueError\u001b[39;00m(\n\u001b[0;32m   1578\u001b[0m         \u001b[38;5;124mf\u001b[39m\u001b[38;5;124m\"\u001b[39m\u001b[38;5;124mThe truth value of a \u001b[39m\u001b[38;5;132;01m{\u001b[39;00m\u001b[38;5;28mtype\u001b[39m(\u001b[38;5;28mself\u001b[39m)\u001b[38;5;241m.\u001b[39m\u001b[38;5;18m__name__\u001b[39m\u001b[38;5;132;01m}\u001b[39;00m\u001b[38;5;124m is ambiguous. \u001b[39m\u001b[38;5;124m\"\u001b[39m\n\u001b[0;32m   1579\u001b[0m         \u001b[38;5;124m\"\u001b[39m\u001b[38;5;124mUse a.empty, a.bool(), a.item(), a.any() or a.all().\u001b[39m\u001b[38;5;124m\"\u001b[39m\n\u001b[0;32m   1580\u001b[0m     )\n",
            "\u001b[1;31mValueError\u001b[0m: The truth value of a Series is ambiguous. Use a.empty, a.bool(), a.item(), a.any() or a.all()."
          ]
        }
      ],
      "source": [
        "strength_accuracy_list = []\n",
        "direction_accuracy_list = []\n",
        "accuracy_list = []\n",
        "\n",
        "train_X = train_df.drop(columns=['target', 'close_price'])\n",
        "train_y = train_df['target']\n",
        "train_y_price = train_df['close_price']\n",
        "test_X = test_df.drop(columns=['target', 'close_price'])\n",
        "\n",
        "tscv = TimeSeriesSplit(n_splits=10)\n",
        "for cur_split, (train_index, val_index) in enumerate(tscv.split(train_df)):\n",
        "\n",
        "    cur_train_X = train_X.iloc[train_index].copy()\n",
        "    cur_train_y = train_y.iloc[train_index].copy()\n",
        "    cur_train_y_price = train_y_price.iloc[train_index].copy()\n",
        "    cur_val_X = train_X.iloc[val_index].copy()\n",
        "    cur_val_y = train_y.iloc[val_index].copy()\n",
        "\n",
        "    model: Model = selected_model_cls()\n",
        "    model.fit(cur_train_X, cur_train_y, cur_train_y_price)\n",
        "    cur_val_y_pred = model.predict(cur_val_X)\n",
        "\n",
        "    cur_val_y_direction_pred = cur_val_y_pred.apply(lambda x: 0 if x == 0 or x == 1 else 1)\n",
        "    cur_val_y_strength_pred = cur_val_y_pred.apply(lambda x: 0 if x == 1 or x == 2 else 1)\n",
        "    cur_val_y_direction = cur_val_y.apply(lambda x: 0 if x == 0 or x == 1 else 1)\n",
        "    cur_val_y_strength = cur_val_y.apply(lambda x: 0 if x == 1 or x == 2 else 1)\n",
        "\n",
        "    accuracy = accuracy_score(cur_val_y, cur_val_y_pred)\n",
        "    accuracy_list.append(accuracy)\n",
        "    print(f'정확도: {accuracy_list[-1]:.4f}', end='  ')\n",
        "\n",
        "    direction_accuracy = accuracy_score(cur_val_y_direction, cur_val_y_direction_pred)\n",
        "    direction_accuracy_list.append(direction_accuracy)\n",
        "    print(f'방향 정확도: {direction_accuracy_list[-1]:.4f}', end='  ')\n",
        "\n",
        "    strength_accuracy = accuracy_score(cur_val_y_strength, cur_val_y_strength_pred)\n",
        "    strength_accuracy_list.append(strength_accuracy)\n",
        "    print(f'강도 정확도: {strength_accuracy_list[-1]:.4f}', end='  ')\n",
        "    print('')\n",
        "\n",
        "print('')\n",
        "print('평균 정확도: ', np.mean(accuracy_list))\n",
        "print('평균 방향 정확도: ', np.mean(direction_accuracy_list))\n",
        "print('평균 강도 정확도: ', np.mean(strength_accuracy_list))"
      ]
    },
    {
      "cell_type": "markdown",
      "metadata": {},
      "source": [
        "### Submission"
      ]
    },
    {
      "cell_type": "code",
      "execution_count": 78,
      "metadata": {},
      "outputs": [
        {
          "name": "stdout",
          "output_type": "stream",
          "text": [
            "target\n",
            "2         2782\n",
            "1           10\n",
            "Name: count, dtype: int64\n"
          ]
        }
      ],
      "source": [
        "model: Model = selected_model_cls()\n",
        "model.fit(train_X, train_y, train_y_price)\n",
        "test_y_pred = model.predict(test_X)\n",
        "test_y_pred = test_y_pred.astype(int)\n",
        "\n",
        "submission_df = pd.DataFrame(\n",
        "    {'target': test_y_pred.values},\n",
        "    index = pd.date_range(\n",
        "        start=pd.Timestamp('2024-01-01 00:00:00'),\n",
        "        end=pd.Timestamp('2024-04-26 07:00:00'),\n",
        "        freq='1h'\n",
        "    )\n",
        ")\n",
        "print(submission_df.value_counts())\n",
        "submission_df.to_csv('output.csv', index=True, index_label='ID')"
      ]
    }
  ],
  "metadata": {
    "colab": {
      "provenance": [],
      "toc_visible": true
    },
    "kernelspec": {
      "display_name": "Python 3 (ipykernel)",
      "language": "python",
      "name": "python3"
    },
    "language_info": {
      "codemirror_mode": {
        "name": "ipython",
        "version": 3
      },
      "file_extension": ".py",
      "mimetype": "text/x-python",
      "name": "python",
      "nbconvert_exporter": "python",
      "pygments_lexer": "ipython3",
      "version": "3.10.0"
    }
  },
  "nbformat": 4,
  "nbformat_minor": 0
}
