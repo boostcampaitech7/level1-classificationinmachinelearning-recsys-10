{
  "cells": [
    {
      "cell_type": "markdown",
      "metadata": {
        "id": "NATX0bAZNln8"
      },
      "source": [
        "### Import Library"
      ]
    },
    {
      "cell_type": "code",
      "execution_count": 18,
      "metadata": {
        "id": "Z3Or4rTINln9"
      },
      "outputs": [],
      "source": [
        "import os\n",
        "import sys\n",
        "import numpy as np\n",
        "import pandas as pd\n",
        "from sklearn.model_selection import train_test_split, TimeSeriesSplit\n",
        "from sklearn.metrics import accuracy_score, roc_auc_score\n"
      ]
    },
    {
      "cell_type": "markdown",
      "metadata": {
        "id": "ZMsth-PvNln-"
      },
      "source": [
        "### Load Preprocessed Data"
      ]
    },
    {
      "cell_type": "code",
      "execution_count": 38,
      "metadata": {
        "id": "9XS4DPONNln_"
      },
      "outputs": [],
      "source": [
        "# 파일 호출\n",
        "data_path: str =  os.path.join(os.path.abspath(''), 'data', 'preprocessed')\n",
        "train_df: pd.DataFrame = pd.read_csv(os.path.join(data_path, \"train.csv\"), index_col=0)\n",
        "test_df: pd.DataFrame = pd.read_csv(os.path.join(data_path, \"test.csv\"), index_col=0)\n",
        "all_df: pd.DataFrame = pd.concat([train_df, test_df], axis=0)"
      ]
    },
    {
      "cell_type": "markdown",
      "metadata": {},
      "source": [
        "### Load Model"
      ]
    },
    {
      "cell_type": "code",
      "execution_count": 39,
      "metadata": {},
      "outputs": [],
      "source": [
        "import importlib\n",
        "\n",
        "module_name = 'naive_model'\n",
        "model_name = ''.join([word.title() for word in module_name.split('_')])\n",
        "\n",
        "model_path: str = os.path.join(os.path.abspath(''), 'models')\n",
        "from models.model import Model\n",
        "if model_path not in sys.path:\n",
        "    sys.path.append(model_path)\n",
        "if module_name in sys.modules:\n",
        "        del sys.modules[module_name]\n",
        "module = importlib.import_module(module_name)\n",
        "selected_model_cls = getattr(module, model_name)"
      ]
    },
    {
      "cell_type": "markdown",
      "metadata": {
        "id": "S1kDMn3FPRco"
      },
      "source": [
        "### Train-Validation process"
      ]
    },
    {
      "cell_type": "code",
      "execution_count": 43,
      "metadata": {
        "id": "0bem1yblNloF"
      },
      "outputs": [
        {
          "name": "stdout",
          "output_type": "stream",
          "text": [
            "정확도: 0.4271  방향 정확도: 0.4925  강도 정확도: 0.8668  \n",
            "정확도: 0.3731  방향 정확도: 0.5214  강도 정확도: 0.7274  \n",
            "정확도: 0.4083  방향 정확도: 0.4962  강도 정확도: 0.8266  \n",
            "정확도: 0.4410  방향 정확도: 0.5038  강도 정확도: 0.8781  \n",
            "정확도: 0.2638  방향 정확도: 0.4987  강도 정확도: 0.5465  \n",
            "정확도: 0.4711  방향 정확도: 0.5126  강도 정확도: 0.9108  \n",
            "정확도: 0.4736  방향 정확도: 0.5151  강도 정확도: 0.9058  \n",
            "정확도: 0.4359  방향 정확도: 0.5038  강도 정확도: 0.8769  \n",
            "정확도: 0.4460  방향 정확도: 0.5276  강도 정확도: 0.8480  \n",
            "정확도: 0.4183  방향 정확도: 0.5138  강도 정확도: 0.8204  \n",
            "\n",
            "평균 정확도:  0.4158291457286432\n",
            "평균 방향 정확도:  0.5085427135678391\n",
            "평균 강도 정확도:  0.8207286432160805\n"
          ]
        }
      ],
      "source": [
        "strength_accuracy_list = []\n",
        "direction_accuracy_list = []\n",
        "accuracy_list = []\n",
        "\n",
        "train_X = train_df.drop(columns=['target'])\n",
        "train_y = train_df['target']\n",
        "\n",
        "tscv = TimeSeriesSplit(n_splits=10)\n",
        "for cur_split, (train_index, val_index) in enumerate(tscv.split(train_df)):\n",
        "\n",
        "    cur_train_X = train_X.iloc[train_index].copy()\n",
        "    cur_train_y = train_y.iloc[train_index].copy()\n",
        "    cur_val_X = train_X.iloc[val_index].copy()\n",
        "    cur_val_y = train_y.iloc[val_index].copy()\n",
        "\n",
        "    model: Model = selected_model_cls()\n",
        "    model.fit(cur_train_X, cur_train_y)\n",
        "    cur_val_y_pred = model.predict(cur_val_X)\n",
        "\n",
        "    cur_val_y_direction_pred = cur_val_y_pred.apply(lambda x: 0 if x == 0 or x == 1 else 1)\n",
        "    cur_val_y_strength_pred = cur_val_y_pred.apply(lambda x: 0 if x == 1 or x == 2 else 1)\n",
        "    cur_val_y_direction = cur_val_y.apply(lambda x: 0 if x == 0 or x == 1 else 1)\n",
        "    cur_val_y_strength = cur_val_y.apply(lambda x: 0 if x == 1 or x == 2 else 1)\n",
        "\n",
        "    accuracy = accuracy_score(cur_val_y, cur_val_y_pred)\n",
        "    accuracy_list.append(accuracy)\n",
        "    print(f'정확도: {accuracy_list[-1]:.4f}', end='  ')\n",
        "\n",
        "    direction_accuracy = accuracy_score(cur_val_y_direction, cur_val_y_direction_pred)\n",
        "    direction_accuracy_list.append(direction_accuracy)\n",
        "    print(f'방향 정확도: {direction_accuracy_list[-1]:.4f}', end='  ')\n",
        "\n",
        "    strength_accuracy = accuracy_score(cur_val_y_strength, cur_val_y_strength_pred)\n",
        "    strength_accuracy_list.append(strength_accuracy)\n",
        "    print(f'강도 정확도: {strength_accuracy_list[-1]:.4f}', end='  ')\n",
        "    print('')\n",
        "\n",
        "print('')\n",
        "print('평균 정확도: ', np.mean(accuracy_list))\n",
        "print('평균 방향 정확도: ', np.mean(direction_accuracy_list))\n",
        "print('평균 강도 정확도: ', np.mean(strength_accuracy_list))"
      ]
    },
    {
      "cell_type": "markdown",
      "metadata": {},
      "source": [
        "### Submission"
      ]
    },
    {
      "cell_type": "code",
      "execution_count": 17,
      "metadata": {},
      "outputs": [
        {
          "name": "stdout",
          "output_type": "stream",
          "text": [
            "target\n",
            "1         2792\n",
            "Name: count, dtype: int64\n"
          ]
        }
      ],
      "source": [
        "model: Model = selected_model_cls()\n",
        "model.fit(train_X, train_y)\n",
        "test_y_pred = model.predict(test_df)\n",
        "test_y_pred = test_y_pred.astype(int)\n",
        "\n",
        "submission_df = pd.DataFrame(\n",
        "    {'target': test_y_pred.values},\n",
        "    index = pd.date_range(\n",
        "        start=pd.Timestamp('2024-01-01 00:00:00'),\n",
        "        end=pd.Timestamp('2024-04-26 07:00:00'),\n",
        "        freq='1h'\n",
        "    )\n",
        ")\n",
        "print(submission_df.value_counts())\n",
        "submission_df.to_csv('output.csv', index=True, index_label='ID')"
      ]
    }
  ],
  "metadata": {
    "colab": {
      "provenance": [],
      "toc_visible": true
    },
    "kernelspec": {
      "display_name": "Python 3 (ipykernel)",
      "language": "python",
      "name": "python3"
    },
    "language_info": {
      "codemirror_mode": {
        "name": "ipython",
        "version": 3
      },
      "file_extension": ".py",
      "mimetype": "text/x-python",
      "name": "python",
      "nbconvert_exporter": "python",
      "pygments_lexer": "ipython3",
      "version": "3.10.0"
    }
  },
  "nbformat": 4,
  "nbformat_minor": 0
}
